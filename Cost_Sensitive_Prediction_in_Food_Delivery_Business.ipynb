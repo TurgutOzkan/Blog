{
  "nbformat": 4,
  "nbformat_minor": 0,
  "metadata": {
    "colab": {
      "name": "Cost-Sensitive Prediction in Food Delivery Business.ipynb",
      "provenance": [],
      "collapsed_sections": [],
      "authorship_tag": "ABX9TyOqlUSwe51WJO+Mj/WTDIOp",
      "include_colab_link": true
    },
    "kernelspec": {
      "name": "python3",
      "display_name": "Python 3"
    },
    "language_info": {
      "name": "python"
    }
  },
  "cells": [
    {
      "cell_type": "markdown",
      "metadata": {
        "id": "view-in-github",
        "colab_type": "text"
      },
      "source": [
        "<a href=\"https://colab.research.google.com/github/TurgutOzkan/DataSciencity/blob/master/Cost_Sensitive_Prediction_in_Food_Delivery_Business.ipynb\" target=\"_parent\"><img src=\"https://colab.research.google.com/assets/colab-badge.svg\" alt=\"Open In Colab\"/></a>"
      ]
    },
    {
      "cell_type": "markdown",
      "metadata": {
        "id": "hIg1--rznlkB"
      },
      "source": [
        "The food Delivery business is getting increasingly popular for almost all age groups. Ordering food from the comfort of your home is a big benefit for many. From the business perspective, this also brings challenges. For example, order lateness (underprediction) of delivery time is generally negatively affecting consumer experience. Over-prediction is also problematic but it is usually the case that order lateness is a bigger problem than order earliness. In this exercise, we will assume that underestimating the delivery time is roughly twice as costly as overestimating it. Therefore, we will build a model to predict the estimated time taken for delivery by considering the business challenges in our loss functions. We will work on simulated data and some rounding operations have been done on some features. Due to these operations, total price, total items, minimum and maximum prices need not add up (and others too). Here are the features:\n"
      ]
    },
    {
      "cell_type": "markdown",
      "metadata": {
        "id": "JoicsTMWj1Yb"
      },
      "source": [
        "***market***: The market the delivery company operates in. It can be seen as cities in which the company does its deliveries. \\\n",
        "***time:*** Order time. \\\n",
        "***delivery_time:*** The time items delivered. \\\n",
        "***store:*** Stores that are preparing orders. \\\n",
        "***venue_type:*** Cuisine type (American, Mexican etc.) \\\n",
        "***total_items:*** Number of total items in the order. \\\n",
        "***total:*** Total price of the order in dollars. \\\n",
        "***nu_item_purchased:*** The number of distinct items in the order.  \\\n",
        "***min_item_price:*** Minimum price of the item among the order. This is rounded to nearest integer. \\\n",
        "***max_item_price:*** Max price of the item among the order.  \\\n",
        "***total_delivery_person***: Total number of delivery people active in the area. \\\n",
        "***total_busy_delivery_person:*** Total number of delivery people that are busy delivering other items. \\\n",
        "***order_duration:*** Estimated duration for placing the order by the delivery provider."
      ]
    },
    {
      "cell_type": "code",
      "metadata": {
        "colab": {
          "base_uri": "https://localhost:8080/"
        },
        "id": "Cm1C8HUbhQ3L",
        "outputId": "2f012b25-4201-4272-da03-46b3e3a035ec"
      },
      "source": [
        "import numpy as np\n",
        "import pandas as pd\n",
        "import matplotlib.pyplot as plt\n",
        "import seaborn as sns\n",
        "import matplotlib.style as style\n",
        "style.use('fivethirtyeight')\n",
        "pd.options.mode.chained_assignment = None\n",
        "df = pd.read_csv(\"simulated_delivery_data.csv\")\n",
        "print(df.shape)"
      ],
      "execution_count": 14,
      "outputs": [
        {
          "output_type": "stream",
          "text": [
            "(39484, 13)\n"
          ],
          "name": "stdout"
        }
      ]
    },
    {
      "cell_type": "code",
      "metadata": {
        "colab": {
          "base_uri": "https://localhost:8080/",
          "height": 257
        },
        "id": "ZxuzyaQXhOTs",
        "outputId": "84a47a67-1998-4140-aebc-b1037fefef36"
      },
      "source": [
        "df.head(3)"
      ],
      "execution_count": 15,
      "outputs": [
        {
          "output_type": "execute_result",
          "data": {
            "text/html": [
              "<div>\n",
              "<style scoped>\n",
              "    .dataframe tbody tr th:only-of-type {\n",
              "        vertical-align: middle;\n",
              "    }\n",
              "\n",
              "    .dataframe tbody tr th {\n",
              "        vertical-align: top;\n",
              "    }\n",
              "\n",
              "    .dataframe thead th {\n",
              "        text-align: right;\n",
              "    }\n",
              "</style>\n",
              "<table border=\"1\" class=\"dataframe\">\n",
              "  <thead>\n",
              "    <tr style=\"text-align: right;\">\n",
              "      <th></th>\n",
              "      <th>market</th>\n",
              "      <th>time</th>\n",
              "      <th>delivery_time</th>\n",
              "      <th>store</th>\n",
              "      <th>venue_type</th>\n",
              "      <th>total_items</th>\n",
              "      <th>total</th>\n",
              "      <th>nu_item_purchased</th>\n",
              "      <th>min_item_price</th>\n",
              "      <th>max_item_price</th>\n",
              "      <th>total_delivery_person</th>\n",
              "      <th>total_busy_delivery_person</th>\n",
              "      <th>order_duration</th>\n",
              "    </tr>\n",
              "  </thead>\n",
              "  <tbody>\n",
              "    <tr>\n",
              "      <th>0</th>\n",
              "      <td>2.0</td>\n",
              "      <td>2016-01-25 02:55:36</td>\n",
              "      <td>2016-01-25 03:29:48</td>\n",
              "      <td>8531</td>\n",
              "      <td>pizza</td>\n",
              "      <td>3</td>\n",
              "      <td>36.0</td>\n",
              "      <td>3</td>\n",
              "      <td>12.0</td>\n",
              "      <td>12.0</td>\n",
              "      <td>60.0</td>\n",
              "      <td>60.0</td>\n",
              "      <td>281</td>\n",
              "    </tr>\n",
              "    <tr>\n",
              "      <th>1</th>\n",
              "      <td>6.0</td>\n",
              "      <td>2016-02-10 22:03:21</td>\n",
              "      <td>2016-02-10 22:43:09</td>\n",
              "      <td>4973</td>\n",
              "      <td>burger</td>\n",
              "      <td>6</td>\n",
              "      <td>30.0</td>\n",
              "      <td>4</td>\n",
              "      <td>3.0</td>\n",
              "      <td>9.0</td>\n",
              "      <td>21.0</td>\n",
              "      <td>10.0</td>\n",
              "      <td>476</td>\n",
              "    </tr>\n",
              "    <tr>\n",
              "      <th>2</th>\n",
              "      <td>12.0</td>\n",
              "      <td>2016-01-25 02:21:46</td>\n",
              "      <td>2016-01-25 04:59:10</td>\n",
              "      <td>3367</td>\n",
              "      <td>pizza</td>\n",
              "      <td>5</td>\n",
              "      <td>64.0</td>\n",
              "      <td>4</td>\n",
              "      <td>5.0</td>\n",
              "      <td>28.0</td>\n",
              "      <td>NaN</td>\n",
              "      <td>NaN</td>\n",
              "      <td>476</td>\n",
              "    </tr>\n",
              "  </tbody>\n",
              "</table>\n",
              "</div>"
            ],
            "text/plain": [
              "   market                 time  ... total_busy_delivery_person  order_duration\n",
              "0     2.0  2016-01-25 02:55:36  ...                       60.0             281\n",
              "1     6.0  2016-02-10 22:03:21  ...                       10.0             476\n",
              "2    12.0  2016-01-25 02:21:46  ...                        NaN             476\n",
              "\n",
              "[3 rows x 13 columns]"
            ]
          },
          "metadata": {
            "tags": []
          },
          "execution_count": 15
        }
      ]
    },
    {
      "cell_type": "markdown",
      "metadata": {
        "id": "3jcxpzo9MN0P"
      },
      "source": [
        "We will create the outcome feature as a time span from the order time to delivery time measured in seconds."
      ]
    },
    {
      "cell_type": "code",
      "metadata": {
        "id": "DlO-TGrPJKeC",
        "colab": {
          "base_uri": "https://localhost:8080/",
          "height": 340
        },
        "outputId": "6c8439d6-afc2-4f2e-c4cd-387bba2b902a"
      },
      "source": [
        "df.time = pd.to_datetime(df.time)\n",
        "df.delivery_time = pd.to_datetime(df.delivery_time)\n",
        "df[\"total_delivery_duration\"] = (df['time'] - df['delivery_time']).dt.seconds\n",
        "# examine the outcome variable\n",
        "boxplot = df.boxplot(column=['total_delivery_duration'] , figsize=(6,5))"
      ],
      "execution_count": 16,
      "outputs": [
        {
          "output_type": "display_data",
          "data": {
            "image/png": "[encoded data removed]",
            "text/plain": [
              "<Figure size 432x360 with 1 Axes>"
            ]
          },
          "metadata": {
            "tags": []
          }
        }
      ]
    },
    {
      "cell_type": "markdown",
      "metadata": {
        "id": "0S2NJY3vPIZe"
      },
      "source": [
        "Let's remove some outliers by setting a threshold. With outliers removed, the distribution looked a lot like normal below."
      ]
    },
    {
      "cell_type": "code",
      "metadata": {
        "colab": {
          "base_uri": "https://localhost:8080/",
          "height": 316
        },
        "id": "u1bgM2rDMoCW",
        "outputId": "4198426e-695a-4779-ce00-2ab0c29a8538"
      },
      "source": [
        "num = 80000\n",
        "df = df[df[\"total_delivery_duration\"]>num]\n",
        "print(df.shape)\n",
        "df.total_delivery_duration.hist()"
      ],
      "execution_count": 17,
      "outputs": [
        {
          "output_type": "stream",
          "text": [
            "(39067, 14)\n"
          ],
          "name": "stdout"
        },
        {
          "output_type": "execute_result",
          "data": {
            "text/plain": [
              "<matplotlib.axes._subplots.AxesSubplot at 0x7f65e5f1cd10>"
            ]
          },
          "metadata": {
            "tags": []
          },
          "execution_count": 17
        },
        {
          "output_type": "display_data",
          "data": {
            "image/png": "[encoded data removed]",
            "text/plain": [
              "<Figure size 432x288 with 1 Axes>"
            ]
          },
          "metadata": {
            "tags": []
          }
        }
      ]
    },
    {
      "cell_type": "markdown",
      "metadata": {
        "id": "eddd6tYijqcp"
      },
      "source": [
        "**Exploratory Data Analysis**"
      ]
    },
    {
      "cell_type": "code",
      "metadata": {
        "colab": {
          "base_uri": "https://localhost:8080/"
        },
        "id": "eBoOxMDfjB3c",
        "outputId": "3a1b01a5-ae3f-47c6-f5b5-5de18c7c4e57"
      },
      "source": [
        "df.dtypes"
      ],
      "execution_count": 18,
      "outputs": [
        {
          "output_type": "execute_result",
          "data": {
            "text/plain": [
              "market                               float64\n",
              "time                          datetime64[ns]\n",
              "delivery_time                 datetime64[ns]\n",
              "store                                  int64\n",
              "venue_type                            object\n",
              "total_items                            int64\n",
              "total                                float64\n",
              "nu_item_purchased                      int64\n",
              "min_item_price                       float64\n",
              "max_item_price                       float64\n",
              "total_delivery_person                float64\n",
              "total_busy_delivery_person           float64\n",
              "order_duration                         int64\n",
              "total_delivery_duration                int64\n",
              "dtype: object"
            ]
          },
          "metadata": {
            "tags": []
          },
          "execution_count": 18
        }
      ]
    },
    {
      "cell_type": "markdown",
      "metadata": {
        "id": "PlWMavV2JmIV"
      },
      "source": [
        "Let's create features indicating the day of the week and hour of the day. Then, we check if we have missing data."
      ]
    },
    {
      "cell_type": "code",
      "metadata": {
        "id": "uYCvA1jqJJwv"
      },
      "source": [
        "def create_service_day(dataset, datecolumn):\n",
        "    \"\"\"returns day name for a given date column.\n",
        "    Column should be datetime object\"\"\"\n",
        "    return dataset[datecolumn].dt.day_name() \n",
        "\n",
        "def create_service_hour(dataset, datecolumn):\n",
        "    \"\"\"returns hour name for a given date column.\n",
        "    Column should be datetime object\"\"\"\n",
        "    return dataset[datecolumn].dt.hour\n",
        "\n",
        "df['order_day'] = create_service_day(df, 'time')\n",
        "df['order_hour'] = create_service_hour(df, 'time')"
      ],
      "execution_count": 19,
      "outputs": []
    },
    {
      "cell_type": "code",
      "metadata": {
        "colab": {
          "base_uri": "https://localhost:8080/"
        },
        "id": "0z8Um-nHJvAy",
        "outputId": "3b781d33-94ad-4c01-b362-1f0cfeff0bb8"
      },
      "source": [
        "df.isnull().sum()"
      ],
      "execution_count": 20,
      "outputs": [
        {
          "output_type": "execute_result",
          "data": {
            "text/plain": [
              "market                         204\n",
              "time                             0\n",
              "delivery_time                    0\n",
              "store                            0\n",
              "venue_type                    1006\n",
              "total_items                      0\n",
              "total                            0\n",
              "nu_item_purchased                0\n",
              "min_item_price                   0\n",
              "max_item_price                   0\n",
              "total_delivery_person         3225\n",
              "total_busy_delivery_person    3225\n",
              "order_duration                   0\n",
              "total_delivery_duration          0\n",
              "order_day                        0\n",
              "order_hour                       0\n",
              "dtype: int64"
            ]
          },
          "metadata": {
            "tags": []
          },
          "execution_count": 20
        }
      ]
    },
    {
      "cell_type": "markdown",
      "metadata": {
        "id": "_jt750MSNXAt"
      },
      "source": [
        "We have some missing data and we will deal with them later. Now, we will visually examine certain features. First, we plot order frequency by order hours."
      ]
    },
    {
      "cell_type": "code",
      "metadata": {
        "colab": {
          "base_uri": "https://localhost:8080/",
          "height": 299
        },
        "id": "iDfO_CdbNRWa",
        "outputId": "6a382fa9-ea68-41eb-c1b4-d1430f5ddd43"
      },
      "source": [
        "df['order_hour'].value_counts().plot(kind='bar')\n",
        "plt.title('Order Frequency by Hours')\n",
        "plt.xlabel('Hours')\n",
        "plt.show()"
      ],
      "execution_count": 9,
      "outputs": [
        {
          "output_type": "display_data",
          "data": {
            "image/png": "[encoded data removed]",
            "text/plain": [
              "<Figure size 432x288 with 1 Axes>"
            ]
          },
          "metadata": {
            "tags": [],
            "needs_background": "light"
          }
        }
      ]
    },
    {
      "cell_type": "markdown",
      "metadata": {
        "id": "vtj3-yHTNmCl"
      },
      "source": [
        "It seems like 2 am and 1 am have the most order frequency in our data. Remember this is simulated data (with serious noise) and it may be at odds with reality. With cleaner data, you would have a better insight following the same procedure. Anyways, let's see how orders play out with the day of the week!"
      ]
    },
    {
      "cell_type": "code",
      "metadata": {
        "colab": {
          "base_uri": "https://localhost:8080/",
          "height": 392
        },
        "id": "Cen38KkQNSPK",
        "outputId": "8d200af9-fa30-405e-fa1c-3973a22d8bdf"
      },
      "source": [
        "df['order_day'].value_counts().plot(kind='bar',title='Order Frequency by Days')\n",
        "plt.xlabel('Days')\n",
        "plt.show()"
      ],
      "execution_count": 13,
      "outputs": [
        {
          "output_type": "display_data",
          "data": {
            "image/png": "[encoded data removed]",
            "text/plain": [
              "<Figure size 432x288 with 1 Axes>"
            ]
          },
          "metadata": {
            "tags": []
          }
        }
      ]
    },
    {
      "cell_type": "markdown",
      "metadata": {
        "id": "XeGg1l2zOQAV"
      },
      "source": [
        "It looks like Sunday and Monday are the busy days. We can further analyze other features but we will leave it here. Now, we will create Train, Validation and Test Sets."
      ]
    },
    {
      "cell_type": "code",
      "metadata": {
        "colab": {
          "base_uri": "https://localhost:8080/"
        },
        "id": "xqFJ_3G6NxGN",
        "outputId": "bf1a4130-72f7-4ff6-9db5-ce1795c01d1e"
      },
      "source": [
        "ratios = [0.7, 0.85]\n",
        "def create_train_val_test(dataset, ratios):\n",
        "    \"\"\"\n",
        "    Takes a dataframe and split ratios, then return \n",
        "    train, validation, and test sets. Divides data into\n",
        "    three sets defined by ratios. For example, \n",
        "    ratios = [0.7, 0.85] would create\n",
        "    70% train set, 15% validation set, and 15% test set.\n",
        "    \n",
        "        Parameters:\n",
        "                dataset (dataframe): pandas dataframe\n",
        "                ratios (list): first threshold defines train\n",
        "                portion, and from that to the second threshold\n",
        "                is validation, and the rest is test set. Since\n",
        "                data is shuffled, these are purely random sets.\n",
        "\n",
        "        Returns:\n",
        "                train, validation, and test sets for both \n",
        "                X and y (dataframe): pandas dataframe\n",
        "    \"\"\"\n",
        "    \n",
        "    # Add unique id to facilitate checking the randomness\n",
        "    dataset['id'] = range(1, 1 + len(dataset))\n",
        "    # shuffle data from creating random sets\n",
        "    dataset = dataset.sample(frac=1, random_state=3)\n",
        "    # create train, validation, and test sets\n",
        "    df_train = dataset.iloc[0: round(ratios[0] * len(dataset)), :]\n",
        "    df_val = dataset.iloc[round(ratios[0] * len(dataset)): round(ratios[1] * len(dataset)), :]\n",
        "    df_test = dataset.iloc[round(ratios[1] * len(dataset)): , :]\n",
        "    # sanity check\n",
        "    assert set() == set(df_train.id) & set(df_val.id) & set(df_test.id)\n",
        "    # drop ids\n",
        "    df_train.drop(columns=['id'], inplace=True)\n",
        "    df_val.drop(columns=['id'], inplace=True)\n",
        "    df_test.drop(columns=['id'], inplace=True)\n",
        "    print(\"Train size:\", df_train.shape)\n",
        "    print(\"Validation size:\", df_val.shape)\n",
        "    print(\"Test size:\", df_test.shape )\n",
        "    return df_train, df_val, df_test\n",
        "\n",
        "df_train, df_val, df_test = create_train_val_test(df, ratios)"
      ],
      "execution_count": 21,
      "outputs": [
        {
          "output_type": "stream",
          "text": [
            "Train size: (27347, 16)\n",
            "Validation size: (5860, 16)\n",
            "Test size: (5860, 16)\n"
          ],
          "name": "stdout"
        }
      ]
    },
    {
      "cell_type": "markdown",
      "metadata": {
        "id": "2N84uQGdPDKG"
      },
      "source": [
        "On-time delivery is a function of three things. Order placement by app (internal system of the delivery company), store food prep time, and finally, the delivery person actually delivering the items. Let's generate a new feature, that shows the ratio between total_busy_delivery_person and total_delivery_person and call this feature a serviceability score. If serviceability is 1, that means all delivery folks are busy with orders at hand, whereas 0 means, all of them are idle now."
      ]
    },
    {
      "cell_type": "code",
      "metadata": {
        "id": "QHxCLxgLPSSs",
        "colab": {
          "base_uri": "https://localhost:8080/",
          "height": 299
        },
        "outputId": "fc6f48de-a10a-4720-a951-00fa393082d6"
      },
      "source": [
        "def servicability_score(dataset):\n",
        "    \"\"\"\n",
        "    calculates the ratio between total_busy_delivery_person\n",
        "    and total_delivery_person.\n",
        "    \"\"\"\n",
        "    dataset['servicability'] = dataset.total_busy_delivery_person / dataset.total_delivery_person\n",
        "    dataset.loc[dataset.total_busy_delivery_person > dataset.total_delivery_person, 'servicability'] = 1\n",
        "    dataset.loc[(dataset.total_busy_delivery_person ==0) & (dataset.total_delivery_person==0), 'servicability'] = 1\n",
        "    dataset.loc[dataset.servicability < 0, 'servicability'] = round(dataset.servicability.median(),2)\n",
        "    return dataset\n",
        "\n",
        "df_train = servicability_score(df_train)\n",
        "# let's see servicability distribution\n",
        "df_train.servicability.hist()"
      ],
      "execution_count": 22,
      "outputs": [
        {
          "output_type": "execute_result",
          "data": {
            "text/plain": [
              "<matplotlib.axes._subplots.AxesSubplot at 0x7f65e6764c90>"
            ]
          },
          "metadata": {
            "tags": []
          },
          "execution_count": 22
        },
        {
          "output_type": "display_data",
          "data": {
            "image/png": "[encoded data removed]",
            "text/plain": [
              "<Figure size 432x288 with 1 Axes>"
            ]
          },
          "metadata": {
            "tags": []
          }
        }
      ]
    },
    {
      "cell_type": "markdown",
      "metadata": {
        "id": "5ojr8XgSPPZA"
      },
      "source": [
        "Earlier, we detected some missingness in our data. We will impute the data below. We will focus on mode and median imputation. Mode imputation is good for categorical values and median is good whenever you have a continuous value that may have serious outliers."
      ]
    },
    {
      "cell_type": "code",
      "metadata": {
        "id": "QCRRJyj7PKGk"
      },
      "source": [
        "from sklearn.impute import SimpleImputer\n",
        "\n",
        "def mode_imputer_fit(dataset, column_list):\n",
        "    \"\"\"\n",
        "    Takes a dataframe and a list of columns\n",
        "    to fit an imputer with the most frequent value\n",
        "    \n",
        "        Parameters:\n",
        "                dataset (dataframe): Pandas dataframe\n",
        "                column_list (list) : Python list\n",
        "\n",
        "        Returns:\n",
        "                fitted SimpleImputer Scikitlearn Object\n",
        "    \"\"\"\n",
        "    imp_mode = SimpleImputer(missing_values=np.nan, strategy='most_frequent')\n",
        "    imp_mode.fit(dataset[column_list])\n",
        "    return imp_mode\n",
        "\n",
        "def mode_imputer_transform(dataset, column_list, imputerObject):\n",
        "    \"\"\"\n",
        "    Takes a dataframe and a list of columns\n",
        "    and impute with the most frequent value\n",
        "    \n",
        "        Parameters:\n",
        "                dataset (dataframe): Pandas dataframe\n",
        "                column_list (list) : Python list\n",
        "                imputerObject (object): SimpleImputer Scikitlearn Object\n",
        "\n",
        "        Returns:\n",
        "                dataframe consists of imputed column_list\n",
        "    \"\"\"\n",
        "    dataset[column_list] = imp_mode.transform(dataset[column_list])\n",
        "    return dataset[column_list]\n",
        "\n",
        "cols_to_mode_impute = ['market', 'venue_type']\n",
        "imp_mode = mode_imputer_fit(df_train, cols_to_mode_impute)\n",
        "df_train[cols_to_mode_impute] = mode_imputer_transform(df_train, cols_to_mode_impute, imp_mode)\n",
        "\n",
        "def median_imputer_fit(dataset, column_list):\n",
        "    \"\"\"\n",
        "    Takes a dataframe and a list of columns\n",
        "    to fit an imputer with the median value\n",
        "    \n",
        "        Parameters:\n",
        "                dataset (dataframe): Pandas dataframe\n",
        "                column_list (list) : Python list\n",
        "\n",
        "        Returns:\n",
        "                fitted SimpleImputer Scikitlearn Object\n",
        "    \"\"\"\n",
        "    imp_median = SimpleImputer(missing_values=np.nan, strategy='median')\n",
        "    imp_median.fit(dataset[column_list])\n",
        "    return imp_median\n",
        "\n",
        "def median_imputer_transform(dataset, column_list, imputerObject):\n",
        "    \"\"\"\n",
        "    Takes a dataframe and a list of columns\n",
        "    and impute with the median value\n",
        "    \n",
        "        Parameters:\n",
        "                dataset (dataframe): Pandas dataframe\n",
        "                column_list (list) : Python list\n",
        "                imputerObject (object): SimpleImputer Scikitlearn Object\n",
        "\n",
        "        Returns:\n",
        "                dataframe consists of imputed column_list\n",
        "    \"\"\"\n",
        "    dataset[column_list] = imp_median.transform(dataset[column_list])\n",
        "    return dataset[column_list]\n",
        "\n",
        "cols_to_median_impute = ['total_delivery_person', 'total_busy_delivery_person']\n",
        "imp_median = median_imputer_fit(df_train, cols_to_median_impute)\n",
        "df_train[cols_to_median_impute] = median_imputer_transform(df_train, cols_to_median_impute, imp_median)"
      ],
      "execution_count": 23,
      "outputs": []
    },
    {
      "cell_type": "markdown",
      "metadata": {
        "id": "AzhUFJVRQXsR"
      },
      "source": [
        "We resorted to simply converting stores into their frequencies. This makes sense as stores that have high traffic will be represented as such. These numbers also give insights about the location demographics too since presumably more delivery persons operate in more crowded locations."
      ]
    },
    {
      "cell_type": "code",
      "metadata": {
        "id": "FwieCfOCVx5s"
      },
      "source": [
        "# convert store_into numerical values\n",
        "store_dict = df_train.store.value_counts(dropna=False).to_dict()\n",
        "df_train.store = df_train.store.map(store_dict)"
      ],
      "execution_count": 24,
      "outputs": []
    },
    {
      "cell_type": "markdown",
      "metadata": {
        "id": "JkKvalB5QnFX"
      },
      "source": [
        "Now, we will use a different kind of encoding for didactic purposes. Target encoding is an alternative encoding which works well whenever you have high cardinality. Particularly, we will encode venue_type and order_hour with target encoding. you can pip install category_encoders to install it if you do not have it on your machine."
      ]
    },
    {
      "cell_type": "code",
      "metadata": {
        "colab": {
          "base_uri": "https://localhost:8080/"
        },
        "id": "j9Ie1GaGQz2x",
        "outputId": "547cbdaa-1879-40d0-90df-9063407e42d5"
      },
      "source": [
        "#!pip install category_encoders"
      ],
      "execution_count": 26,
      "outputs": [
        {
          "output_type": "stream",
          "text": [
            "Collecting category_encoders\n",
            "\u001b[?25l  Downloading https://files.pythonhosted.org/packages/44/57/fcef41c248701ee62e8325026b90c432adea35555cbc870aff9cfba23727/category_encoders-2.2.2-py2.py3-none-any.whl (80kB)\n",
            "\r\u001b[K     |████                            | 10kB 15.7MB/s eta 0:00:01\r\u001b[K     |████████▏                       | 20kB 21.2MB/s eta 0:00:01\r\u001b[K     |████████████▏                   | 30kB 11.0MB/s eta 0:00:01\r\u001b[K     |████████████████▎               | 40kB 9.0MB/s eta 0:00:01\r\u001b[K     |████████████████████▎           | 51kB 6.4MB/s eta 0:00:01\r\u001b[K     |████████████████████████▍       | 61kB 6.9MB/s eta 0:00:01\r\u001b[K     |████████████████████████████▍   | 71kB 7.5MB/s eta 0:00:01\r\u001b[K     |████████████████████████████████| 81kB 4.1MB/s \n",
            "\u001b[?25hRequirement already satisfied: scipy>=1.0.0 in /usr/local/lib/python3.7/dist-packages (from category_encoders) (1.4.1)\n",
            "Requirement already satisfied: scikit-learn>=0.20.0 in /usr/local/lib/python3.7/dist-packages (from category_encoders) (0.22.2.post1)\n",
            "Requirement already satisfied: statsmodels>=0.9.0 in /usr/local/lib/python3.7/dist-packages (from category_encoders) (0.10.2)\n",
            "Requirement already satisfied: patsy>=0.5.1 in /usr/local/lib/python3.7/dist-packages (from category_encoders) (0.5.1)\n",
            "Requirement already satisfied: pandas>=0.21.1 in /usr/local/lib/python3.7/dist-packages (from category_encoders) (1.1.5)\n",
            "Requirement already satisfied: numpy>=1.14.0 in /usr/local/lib/python3.7/dist-packages (from category_encoders) (1.19.5)\n",
            "Requirement already satisfied: joblib>=0.11 in /usr/local/lib/python3.7/dist-packages (from scikit-learn>=0.20.0->category_encoders) (1.0.1)\n",
            "Requirement already satisfied: six in /usr/local/lib/python3.7/dist-packages (from patsy>=0.5.1->category_encoders) (1.15.0)\n",
            "Requirement already satisfied: pytz>=2017.2 in /usr/local/lib/python3.7/dist-packages (from pandas>=0.21.1->category_encoders) (2018.9)\n",
            "Requirement already satisfied: python-dateutil>=2.7.3 in /usr/local/lib/python3.7/dist-packages (from pandas>=0.21.1->category_encoders) (2.8.1)\n",
            "Installing collected packages: category-encoders\n",
            "Successfully installed category-encoders-2.2.2\n"
          ],
          "name": "stdout"
        }
      ]
    },
    {
      "cell_type": "code",
      "metadata": {
        "colab": {
          "base_uri": "https://localhost:8080/",
          "height": 257
        },
        "id": "CipKkCiVV9AD",
        "outputId": "eb654ecc-3158-4675-a717-6517a2c1cd0f"
      },
      "source": [
        "from category_encoders import TargetEncoder\n",
        "\n",
        "# save encoders in a dictionary\n",
        "encoders_list = {}\n",
        "def fit_target_encoder(dataset, col, outcome, num):\n",
        "    \"\"\"\n",
        "    fits target encoder on a column based on a smoothing\n",
        "    parameter\n",
        "    \n",
        "         dataset (dataframe): dataframe\n",
        "         col (series): column to target encode\n",
        "         outcome (series): target feature\n",
        "         num (integer): smoothing paremeter to control\n",
        "         overfitting\n",
        "    \"\"\"\n",
        "    encoder = TargetEncoder(smoothing=num)\n",
        "    return encoder.fit(dataset[col].astype(\"category\"),  dataset[outcome])\n",
        "\n",
        "# fit target encoding on venue_type and order_hour\n",
        "venue_type_encoder = fit_target_encoder(\n",
        "    df_train,'venue_type','total_delivery_duration', 500\n",
        ")\n",
        "order_hour_encoder = fit_target_encoder(\n",
        "    df_train,'order_hour','total_delivery_duration', 5000\n",
        ")\n",
        "\n",
        "# add encoded features as new features\n",
        "df_train['venue_type_encoded'] = venue_type_encoder.transform(\n",
        "    df_train['venue_type']\n",
        ")\n",
        "\n",
        "df_train['order_hour_encoded'] = order_hour_encoder.transform(df_train['order_hour'])\n",
        "\n",
        "# let's check how the encoding worked\n",
        "df_train[['venue_type','venue_type_encoded', 'order_hour', 'order_hour_encoded']].head(3)"
      ],
      "execution_count": 27,
      "outputs": [
        {
          "output_type": "stream",
          "text": [
            "/usr/local/lib/python3.7/dist-packages/statsmodels/tools/_testing.py:19: FutureWarning: pandas.util.testing is deprecated. Use the functions in the public API at pandas.testing instead.\n",
            "  import pandas.util.testing as tm\n",
            "/usr/local/lib/python3.7/dist-packages/category_encoders/utils.py:21: FutureWarning: is_categorical is deprecated and will be removed in a future version.  Use is_categorical_dtype instead\n",
            "  elif pd.api.types.is_categorical(cols):\n",
            "/usr/local/lib/python3.7/dist-packages/category_encoders/utils.py:21: FutureWarning: is_categorical is deprecated and will be removed in a future version.  Use is_categorical_dtype instead\n",
            "  elif pd.api.types.is_categorical(cols):\n"
          ],
          "name": "stderr"
        },
        {
          "output_type": "execute_result",
          "data": {
            "text/html": [
              "<div>\n",
              "<style scoped>\n",
              "    .dataframe tbody tr th:only-of-type {\n",
              "        vertical-align: middle;\n",
              "    }\n",
              "\n",
              "    .dataframe tbody tr th {\n",
              "        vertical-align: top;\n",
              "    }\n",
              "\n",
              "    .dataframe thead th {\n",
              "        text-align: right;\n",
              "    }\n",
              "</style>\n",
              "<table border=\"1\" class=\"dataframe\">\n",
              "  <thead>\n",
              "    <tr style=\"text-align: right;\">\n",
              "      <th></th>\n",
              "      <th>venue_type</th>\n",
              "      <th>venue_type_encoded</th>\n",
              "      <th>order_hour</th>\n",
              "      <th>order_hour_encoded</th>\n",
              "    </tr>\n",
              "  </thead>\n",
              "  <tbody>\n",
              "    <tr>\n",
              "      <th>13903</th>\n",
              "      <td>mediterranean</td>\n",
              "      <td>83641.858074</td>\n",
              "      <td>0</td>\n",
              "      <td>83696.104556</td>\n",
              "    </tr>\n",
              "    <tr>\n",
              "      <th>976</th>\n",
              "      <td>convenience-store</td>\n",
              "      <td>83704.836823</td>\n",
              "      <td>20</td>\n",
              "      <td>83718.905928</td>\n",
              "    </tr>\n",
              "    <tr>\n",
              "      <th>22032</th>\n",
              "      <td>other</td>\n",
              "      <td>83698.694458</td>\n",
              "      <td>20</td>\n",
              "      <td>83718.905928</td>\n",
              "    </tr>\n",
              "  </tbody>\n",
              "</table>\n",
              "</div>"
            ],
            "text/plain": [
              "              venue_type  venue_type_encoded  order_hour  order_hour_encoded\n",
              "13903      mediterranean        83641.858074           0        83696.104556\n",
              "976    convenience-store        83704.836823          20        83718.905928\n",
              "22032              other        83698.694458          20        83718.905928"
            ]
          },
          "metadata": {
            "tags": []
          },
          "execution_count": 27
        }
      ]
    },
    {
      "cell_type": "markdown",
      "metadata": {
        "id": "ABrsLQt6RIhJ"
      },
      "source": [
        "As can be seen, venue_type mediterranean is represented with 83641 and thus available for further numeric computations. Below, yet another way of dealing with categories. In this case, binary values. We will simple create dummies and attach those dummies to our original data frame."
      ]
    },
    {
      "cell_type": "code",
      "metadata": {
        "colab": {
          "base_uri": "https://localhost:8080/"
        },
        "id": "gfdT6XEyWGGl",
        "outputId": "9058c6c4-3541-4ff4-edc6-2742bad333de"
      },
      "source": [
        "def create_dummies(dataset, col):\n",
        "    \"\"\"\n",
        "    converts categories into dummies\n",
        "    for a given column and dataset.\n",
        "    Returns a dataframe.\n",
        "    \"\"\"\n",
        "    return pd.get_dummies(dataset[col], prefix=col, drop_first=True)\n",
        "\n",
        "\n",
        "def attach_dummies(dataset, col):\n",
        "    \"\"\"\n",
        "    combines created dummy dataframes to\n",
        "    main dataframe. Returns combined dataframe.\n",
        "    \"\"\"\n",
        "    dataset2 = pd.concat([dataset, create_dummies(dataset, col)], axis=1)\n",
        "    dataset2.drop(columns=[col], inplace=True)\n",
        "    return dataset2\n",
        "\n",
        "# add dummy features\n",
        "dummy_features = ['market', 'order_day']\n",
        "\n",
        "for column in dummy_features:\n",
        "    df_train = attach_dummies(df_train, column)\n",
        "    print(df_train.shape)"
      ],
      "execution_count": 28,
      "outputs": [
        {
          "output_type": "stream",
          "text": [
            "(27347, 23)\n",
            "(27347, 28)\n"
          ],
          "name": "stdout"
        }
      ]
    },
    {
      "cell_type": "code",
      "metadata": {
        "colab": {
          "base_uri": "https://localhost:8080/"
        },
        "id": "jXG0SUfGWK7s",
        "outputId": "f96a8f94-ad27-4faf-d236-a6186d1707bc"
      },
      "source": [
        "# drop date features and venue_type\n",
        "df_train.drop(columns=['time', 'delivery_time','order_hour', 'venue_type'], inplace=True)\n",
        "print(df_train.shape)"
      ],
      "execution_count": 29,
      "outputs": [
        {
          "output_type": "stream",
          "text": [
            "(27347, 24)\n"
          ],
          "name": "stdout"
        }
      ]
    },
    {
      "cell_type": "markdown",
      "metadata": {
        "id": "2gIKGip3R_Cv"
      },
      "source": [
        "Next, we will form input data frame (X) and output series as well as examining correlations among our features."
      ]
    },
    {
      "cell_type": "code",
      "metadata": {
        "id": "aH1GfRLgWkKB",
        "colab": {
          "base_uri": "https://localhost:8080/"
        },
        "outputId": "45b73636-1503-493d-9ad3-44736e009db6"
      },
      "source": [
        "# Create x, y\n",
        "X_train = df_train.drop(columns=['total_delivery_duration'])\n",
        "y_train = df_train.total_delivery_duration\n",
        "\n",
        "# check if any feature have correlation above 0.85\n",
        "def find_corr(dataset, threshold):\n",
        "    \"\"\" Takes dataframe and prints features\n",
        "    that are correlated above given threshold\"\"\"\n",
        "    corr_matrix = dataset.corr().abs()\n",
        "    high_corr_var=np.where(corr_matrix> threshold)\n",
        "    high_corr_var=[\n",
        "        (corr_matrix.columns[x],corr_matrix.columns[y]) \n",
        "        for x,y in zip(*high_corr_var) if x!=y and x<y\n",
        "                  ]\n",
        "    print(high_corr_var)\n",
        "find_corr(X_train, 0.9)\n"
      ],
      "execution_count": 30,
      "outputs": [
        {
          "output_type": "stream",
          "text": [
            "[('total_delivery_person', 'total_busy_delivery_person')]\n"
          ],
          "name": "stdout"
        }
      ]
    },
    {
      "cell_type": "code",
      "metadata": {
        "id": "G4nwmBrWW-0Y",
        "colab": {
          "base_uri": "https://localhost:8080/"
        },
        "outputId": "5102909a-fe0e-41d5-82af-f778687a1b6f"
      },
      "source": [
        "# drop highly collinear variables\n",
        "X_train.drop(columns=['total_delivery_person'], inplace=True)\n",
        "print(X_train.shape)"
      ],
      "execution_count": 31,
      "outputs": [
        {
          "output_type": "stream",
          "text": [
            "(27347, 22)\n"
          ],
          "name": "stdout"
        }
      ]
    },
    {
      "cell_type": "markdown",
      "metadata": {
        "id": "o0gp1kmgRDdi"
      },
      "source": [
        "Let's see how our input dataframe looks at this stage."
      ]
    },
    {
      "cell_type": "code",
      "metadata": {
        "colab": {
          "base_uri": "https://localhost:8080/",
          "height": 215
        },
        "id": "r0nAXcNCi2gi",
        "outputId": "2439e1a8-7ef5-4377-ca9c-580735cef114"
      },
      "source": [
        "X_train.head()"
      ],
      "execution_count": 32,
      "outputs": [
        {
          "output_type": "execute_result",
          "data": {
            "text/html": [
              "<div>\n",
              "<style scoped>\n",
              "    .dataframe tbody tr th:only-of-type {\n",
              "        vertical-align: middle;\n",
              "    }\n",
              "\n",
              "    .dataframe tbody tr th {\n",
              "        vertical-align: top;\n",
              "    }\n",
              "\n",
              "    .dataframe thead th {\n",
              "        text-align: right;\n",
              "    }\n",
              "</style>\n",
              "<table border=\"1\" class=\"dataframe\">\n",
              "  <thead>\n",
              "    <tr style=\"text-align: right;\">\n",
              "      <th></th>\n",
              "      <th>store</th>\n",
              "      <th>total_items</th>\n",
              "      <th>total</th>\n",
              "      <th>nu_item_purchased</th>\n",
              "      <th>min_item_price</th>\n",
              "      <th>max_item_price</th>\n",
              "      <th>total_busy_delivery_person</th>\n",
              "      <th>order_duration</th>\n",
              "      <th>servicability</th>\n",
              "      <th>venue_type_encoded</th>\n",
              "      <th>order_hour_encoded</th>\n",
              "      <th>market_4.0</th>\n",
              "      <th>market_6.0</th>\n",
              "      <th>market_8.0</th>\n",
              "      <th>market_10.0</th>\n",
              "      <th>market_12.0</th>\n",
              "      <th>order_day_Monday</th>\n",
              "      <th>order_day_Saturday</th>\n",
              "      <th>order_day_Sunday</th>\n",
              "      <th>order_day_Thursday</th>\n",
              "      <th>order_day_Tuesday</th>\n",
              "      <th>order_day_Wednesday</th>\n",
              "    </tr>\n",
              "  </thead>\n",
              "  <tbody>\n",
              "    <tr>\n",
              "      <th>13903</th>\n",
              "      <td>37</td>\n",
              "      <td>2</td>\n",
              "      <td>39.0</td>\n",
              "      <td>1</td>\n",
              "      <td>19.0</td>\n",
              "      <td>20.0</td>\n",
              "      <td>29.0</td>\n",
              "      <td>281</td>\n",
              "      <td>1.000000</td>\n",
              "      <td>83641.858074</td>\n",
              "      <td>83696.104556</td>\n",
              "      <td>0</td>\n",
              "      <td>0</td>\n",
              "      <td>0</td>\n",
              "      <td>0</td>\n",
              "      <td>0</td>\n",
              "      <td>1</td>\n",
              "      <td>0</td>\n",
              "      <td>0</td>\n",
              "      <td>0</td>\n",
              "      <td>0</td>\n",
              "      <td>0</td>\n",
              "    </tr>\n",
              "    <tr>\n",
              "      <th>976</th>\n",
              "      <td>1</td>\n",
              "      <td>2</td>\n",
              "      <td>4.0</td>\n",
              "      <td>2</td>\n",
              "      <td>2.0</td>\n",
              "      <td>2.0</td>\n",
              "      <td>39.0</td>\n",
              "      <td>281</td>\n",
              "      <td>0.975000</td>\n",
              "      <td>83704.836823</td>\n",
              "      <td>83718.905928</td>\n",
              "      <td>0</td>\n",
              "      <td>0</td>\n",
              "      <td>0</td>\n",
              "      <td>0</td>\n",
              "      <td>0</td>\n",
              "      <td>0</td>\n",
              "      <td>0</td>\n",
              "      <td>0</td>\n",
              "      <td>0</td>\n",
              "      <td>0</td>\n",
              "      <td>0</td>\n",
              "    </tr>\n",
              "    <tr>\n",
              "      <th>22032</th>\n",
              "      <td>3</td>\n",
              "      <td>2</td>\n",
              "      <td>20.0</td>\n",
              "      <td>2</td>\n",
              "      <td>10.0</td>\n",
              "      <td>10.0</td>\n",
              "      <td>80.0</td>\n",
              "      <td>281</td>\n",
              "      <td>0.987654</td>\n",
              "      <td>83698.694458</td>\n",
              "      <td>83718.905928</td>\n",
              "      <td>0</td>\n",
              "      <td>0</td>\n",
              "      <td>1</td>\n",
              "      <td>0</td>\n",
              "      <td>0</td>\n",
              "      <td>0</td>\n",
              "      <td>0</td>\n",
              "      <td>0</td>\n",
              "      <td>0</td>\n",
              "      <td>0</td>\n",
              "      <td>1</td>\n",
              "    </tr>\n",
              "    <tr>\n",
              "      <th>35724</th>\n",
              "      <td>9</td>\n",
              "      <td>2</td>\n",
              "      <td>27.0</td>\n",
              "      <td>2</td>\n",
              "      <td>8.0</td>\n",
              "      <td>13.0</td>\n",
              "      <td>8.0</td>\n",
              "      <td>476</td>\n",
              "      <td>0.888889</td>\n",
              "      <td>83432.786268</td>\n",
              "      <td>83807.266849</td>\n",
              "      <td>0</td>\n",
              "      <td>0</td>\n",
              "      <td>0</td>\n",
              "      <td>1</td>\n",
              "      <td>0</td>\n",
              "      <td>0</td>\n",
              "      <td>0</td>\n",
              "      <td>1</td>\n",
              "      <td>0</td>\n",
              "      <td>0</td>\n",
              "      <td>0</td>\n",
              "    </tr>\n",
              "    <tr>\n",
              "      <th>17554</th>\n",
              "      <td>3</td>\n",
              "      <td>2</td>\n",
              "      <td>13.0</td>\n",
              "      <td>2</td>\n",
              "      <td>4.0</td>\n",
              "      <td>8.0</td>\n",
              "      <td>48.0</td>\n",
              "      <td>476</td>\n",
              "      <td>1.000000</td>\n",
              "      <td>83610.999430</td>\n",
              "      <td>83309.167286</td>\n",
              "      <td>0</td>\n",
              "      <td>0</td>\n",
              "      <td>0</td>\n",
              "      <td>0</td>\n",
              "      <td>0</td>\n",
              "      <td>0</td>\n",
              "      <td>0</td>\n",
              "      <td>0</td>\n",
              "      <td>1</td>\n",
              "      <td>0</td>\n",
              "      <td>0</td>\n",
              "    </tr>\n",
              "  </tbody>\n",
              "</table>\n",
              "</div>"
            ],
            "text/plain": [
              "       store  total_items  ...  order_day_Tuesday  order_day_Wednesday\n",
              "13903     37            2  ...                  0                    0\n",
              "976        1            2  ...                  0                    0\n",
              "22032      3            2  ...                  0                    1\n",
              "35724      9            2  ...                  0                    0\n",
              "17554      3            2  ...                  0                    0\n",
              "\n",
              "[5 rows x 22 columns]"
            ]
          },
          "metadata": {
            "tags": []
          },
          "execution_count": 32
        }
      ]
    },
    {
      "cell_type": "markdown",
      "metadata": {
        "id": "6AwhZmSHSqEW"
      },
      "source": [
        "Now, we will generate a business metric to monitor. We will not optimize for this specific metric, but we will do somewhat after-the-fact analysis on the result.\n",
        "\n",
        "Remember, we are more concerned about late deliveries as they incur larger costs on the business. Typically, we will create four segments as below:\n",
        "\n",
        "*mild underprediction*: underpredicting within 10 minutes. \\\n",
        "*severe underprediction*: underpredicting more than 10 minutes \\\n",
        "*mild overprediction*: overpredicting within 10 minutes. \\\n",
        "*severe overprediction*: overpredicting more 10 than minutes."
      ]
    },
    {
      "cell_type": "code",
      "metadata": {
        "id": "9dj3hWBmXQK-"
      },
      "source": [
        "def business_metric_eval(y_true, y_pred, acceptance):\n",
        "    \n",
        "    \"\"\"\n",
        "    In order to monitor underpredicted value prevalence, this function\n",
        "    groups predictions into four categories:\n",
        "    \n",
        "        y_true (array): true values\n",
        "        y_pred (array): predicted values\n",
        "        \n",
        "    prints percentage for each group.\n",
        "    \"\"\"\n",
        "    \n",
        "    error = y_pred - y_true\n",
        "    result = pd.DataFrame(zip(y_true.values, y_pred, error),\n",
        "                     columns=['y_true', 'y_pred', 'error'])\n",
        "    result.loc[(result.error>0) & (result.error <= acceptance), 'lateness']='mild_overprediction'\n",
        "    result.loc[result.error > acceptance, 'lateness']= 'severe_overprediction'\n",
        "    result.loc[(result.error<0) & (result.error >= -acceptance), 'lateness']= 'mild_underprediction'\n",
        "    result.loc[result.error < -acceptance, 'lateness']= 'severe_underprediction'\n",
        "    print(result.lateness.value_counts(dropna=False, normalize=True))"
      ],
      "execution_count": 33,
      "outputs": []
    },
    {
      "cell_type": "markdown",
      "metadata": {
        "id": "wRSJWzpuXpaQ"
      },
      "source": [
        "**Validation**\n",
        "\n",
        "Now, we will apply same transformation we did for the train set to the validation and test sets."
      ]
    },
    {
      "cell_type": "code",
      "metadata": {
        "colab": {
          "base_uri": "https://localhost:8080/"
        },
        "id": "s-CSHbxQXNhd",
        "outputId": "78593bb6-cc49-406d-dcd1-f6d634484d50"
      },
      "source": [
        "cols_to_mode_impute = ['market', 'venue_type']\n",
        "df_val[cols_to_mode_impute] = mode_imputer_transform(df_val, cols_to_mode_impute, imp_mode)\n",
        "\n",
        "cols_to_median_impute = ['total_delivery_person', 'total_busy_delivery_person']\n",
        "df_val[cols_to_median_impute] = median_imputer_transform(df_val, cols_to_median_impute, imp_median)\n",
        "\n",
        "df_val = servicability_score(df_val)\n",
        "df_val.store = df_val.store.map(store_dict)\n",
        "df_val.store = df_val.store.fillna(value=df_val.store.median())\n",
        "# df_val.store = df_val.store.fillna(value=df_val.median)\n",
        "df_val['venue_type_encoded'] = venue_type_encoder \\\n",
        ".transform(df_val['venue_type'])\n",
        "\n",
        "df_val['order_hour_encoded'] = order_hour_encoder.transform(df_val['order_hour'])\n",
        "    \n",
        "dummy_features = ['market', 'order_day']\n",
        "\n",
        "for column in dummy_features:\n",
        "    df_val = attach_dummies(df_val, column)\n",
        "    print(df_val.shape)\n",
        "    \n",
        "df_val.drop(columns=['time', 'delivery_time','order_hour', 'venue_type', 'total_delivery_person'], inplace=True)\n",
        "X_val = df_val.drop(columns=['total_delivery_duration'])\n",
        "#X_val.drop(columns=drop_features, inplace=True)\n",
        "y_val = df_val.total_delivery_duration\n",
        "print(X_val.shape)"
      ],
      "execution_count": 34,
      "outputs": [
        {
          "output_type": "stream",
          "text": [
            "(5860, 23)\n",
            "(5860, 28)\n",
            "(5860, 22)\n"
          ],
          "name": "stdout"
        }
      ]
    },
    {
      "cell_type": "markdown",
      "metadata": {
        "id": "lMkyWCMQXrTk"
      },
      "source": [
        "Test"
      ]
    },
    {
      "cell_type": "code",
      "metadata": {
        "colab": {
          "base_uri": "https://localhost:8080/"
        },
        "id": "Vj5ugDFsXi2x",
        "outputId": "5a97e827-1c63-427a-de7f-f4fdb084c067"
      },
      "source": [
        "cols_to_mode_impute = ['market', 'venue_type']\n",
        "df_test[cols_to_mode_impute] = mode_imputer_transform(df_test, cols_to_mode_impute, imp_mode)\n",
        "\n",
        "cols_to_median_impute = ['total_delivery_person', 'total_busy_delivery_person']\n",
        "df_test[cols_to_median_impute] = median_imputer_transform(df_test, cols_to_median_impute, imp_median)\n",
        "\n",
        "df_test = servicability_score(df_test)\n",
        "df_test.store = df_test.store.map(store_dict)\n",
        "df_test.store = df_test.store.fillna(value=df_test.store.median())\n",
        "\n",
        "df_test['venue_type_encoded'] = venue_type_encoder \\\n",
        ".transform(df_test['venue_type'])\n",
        "\n",
        "df_test['order_hour_encoded'] = order_hour_encoder \\\n",
        ".transform(df_test['order_hour'])\n",
        "    \n",
        "dummy_features = ['market', 'order_day']\n",
        "\n",
        "for column in dummy_features:\n",
        "    df_test = attach_dummies(df_test, column)\n",
        "    print(df_test.shape)\n",
        "    \n",
        "df_test.drop(columns=['time', 'delivery_time','order_hour', 'venue_type','total_delivery_person'], inplace=True)\n",
        "X_test = df_test.drop(columns=['total_delivery_duration'])\n",
        "#X_test.drop(columns=drop_features, inplace=True)\n",
        "y_test = df_test.total_delivery_duration\n",
        "print(X_test.shape)"
      ],
      "execution_count": 35,
      "outputs": [
        {
          "output_type": "stream",
          "text": [
            "(5860, 23)\n",
            "(5860, 28)\n",
            "(5860, 22)\n"
          ],
          "name": "stdout"
        }
      ]
    },
    {
      "cell_type": "markdown",
      "metadata": {
        "id": "I-ocfgH4YPu5"
      },
      "source": [
        "At this point, we have train, test, and validation datasets ready for modeling. As you recall, we want less underprediction in our model, thus need a cost-sensitive model. There are two ways we can achieve this goal. \n",
        "\n",
        "- Using quantile loss function. It allows estimating the conditional quantile of the outcome given certain values of predictor variables. It can be seen as an extension of Mean Absolute Error where the quantile is 50th percentile. by defining a quantile value we can differentially weight positive errors or negative errors.  A good discussion is available [here](https://heartbeat.fritz.ai/5-regression-loss-functions-all-machine-learners-should-know-4fb140e9d4b0). We will use alpha=0.66 for the kind of cost sensitivess we want after specifying our objective function as quantile loss.\n",
        "- Using custom oss function by penalizing underprediction more heavily.\n",
        "\n",
        "Next, we will do a hyperparameter tuning using a grid search method with cross-validation."
      ]
    },
    {
      "cell_type": "code",
      "metadata": {
        "id": "zg17dwXDXtCH"
      },
      "source": [
        "from sklearn.model_selection import GridSearchCV\n",
        "import lightgbm as lgb\n",
        "param_grid = {\n",
        "    'seed': [3],\n",
        "    'num_threads':[4],\n",
        "    'num_leaves': [30, 40],\n",
        "    'learning_rate': [0,1, 0.2, 0.3, 0.4],\n",
        "    'n_estimators': [30, 40, 50],\n",
        "    'reg_lambda' : [0,2, 0.3, 0.4],\n",
        "    'min_child_samples' : [100, 120],\n",
        "    'max_depth':[3, 4, 5],\n",
        "    'early_stopping_rounds': [4, 5],\n",
        "    'colsample_bytree': [0.9],\n",
        "    'silent': [True]\n",
        "}\n",
        "\n",
        "estimator = lgb.LGBMRegressor(objective='quantile', alpha=0.66)\n",
        "\n",
        "gbm_q = GridSearchCV(estimator, param_grid, cv=3, verbose=True)\n",
        "gbm_q.fit(\n",
        "    X_train,\n",
        "    y_train,\n",
        "    eval_set=[(X_val, y_val)],\n",
        "    eval_metric='quantile'\n",
        ")"
      ],
      "execution_count": null,
      "outputs": []
    },
    {
      "cell_type": "code",
      "metadata": {
        "colab": {
          "base_uri": "https://localhost:8080/"
        },
        "id": "G-cxb8C1XwyD",
        "outputId": "9c5644de-a34c-4763-e33c-07b6bf492c02"
      },
      "source": [
        "print(gbm_q.best_estimator_)"
      ],
      "execution_count": null,
      "outputs": [
        {
          "output_type": "stream",
          "text": [
            "LGBMRegressor(alpha=0.66, boosting_type='gbdt', class_weight=None,\n",
            "              colsample_bytree=0.9, early_stopping_rounds=5,\n",
            "              importance_type='split', learning_rate=0.4, max_depth=5,\n",
            "              min_child_samples=120, min_child_weight=0.001, min_split_gain=0.0,\n",
            "              n_estimators=50, n_jobs=-1, num_leaves=30, num_threads=4,\n",
            "              objective='quantile', random_state=None, reg_alpha=0.0,\n",
            "              reg_lambda=2, seed=3, silent=True, subsample=1.0,\n",
            "              subsample_for_bin=200000, subsample_freq=0)\n"
          ],
          "name": "stdout"
        }
      ]
    },
    {
      "cell_type": "code",
      "metadata": {
        "colab": {
          "base_uri": "https://localhost:8080/"
        },
        "id": "CdrZn67mYEgE",
        "outputId": "9023e5d0-1c31-4229-dc8b-3f6a711fd804"
      },
      "source": [
        "from sklearn.metrics import mean_squared_error, mean_absolute_error\n",
        "def report_results(model):\n",
        "    y_train_pred = model.predict(X_train)\n",
        "    y_val_pred = model.predict(X_val)\n",
        "    y_test_pred = model.predict(X_test)\n",
        "    print(\"Train MSE:\", mean_squared_error(y_train, y_train_pred))\n",
        "    print(\"Val MSE:\", mean_squared_error(y_val, y_val_pred))\n",
        "    print(\"Test MSE:\", mean_squared_error(y_test, y_test_pred))\n",
        "    print()\n",
        "    print(\"Train MAE:\", mean_absolute_error(y_train, y_train_pred))\n",
        "    print(\"Val MAE:\", mean_absolute_error(y_val, y_val_pred))\n",
        "    print(\"Test MAE:\", mean_absolute_error(y_test, y_test_pred))\n",
        "    return y_train_pred, y_val_pred, y_test_pred\n",
        "\n",
        "y_train_pred, y_val_pred, y_test_pred = report_results(gbm_q)"
      ],
      "execution_count": null,
      "outputs": [
        {
          "output_type": "stream",
          "text": [
            "Train MSE: 894146.87964411\n",
            "Val MSE: 904826.9100338337\n",
            "Test MSE: 901472.3777308738\n",
            "\n",
            "Train MAE: 673.9962436171836\n",
            "Val MAE: 693.6950074198556\n",
            "Test MAE: 697.9164536492077\n"
          ],
          "name": "stdout"
        }
      ]
    },
    {
      "cell_type": "markdown",
      "metadata": {
        "id": "TqnAZeBjTwFE"
      },
      "source": [
        "Results seems ok, and there is no sign of overfitting. Let's check our business metrics too."
      ]
    },
    {
      "cell_type": "code",
      "metadata": {
        "colab": {
          "base_uri": "https://localhost:8080/"
        },
        "id": "WcHtQjJtYKdI",
        "outputId": "d9e751f4-0ea2-4de3-fe48-73f9696f6276"
      },
      "source": [
        "business_metric_eval(y_test, y_test_pred, acceptance=600)"
      ],
      "execution_count": null,
      "outputs": [
        {
          "output_type": "stream",
          "text": [
            "severe_overprediction     0.354608\n",
            "mild_overprediction       0.305461\n",
            "mild_underprediction      0.259044\n",
            "severe_underprediction    0.080887\n",
            "Name: lateness, dtype: float64\n"
          ],
          "name": "stdout"
        }
      ]
    },
    {
      "cell_type": "markdown",
      "metadata": {
        "id": "jvTNfLP-UVhL"
      },
      "source": [
        "As you see we have overpredicted more than we underpredicted in the data. In fact, 30% of the time we will deliver 10 minutes before the actual time. 35% of the time it will be earlier than 10 minutes (say, you promised to deliver at 5.15pm and the delivery person knocks on your door at 5.00pm). \n",
        "\n",
        "Note that we could achieve a similar outcome by defining the asymmetric loss function. Below allows us to integrate cost sensitiveness into our model by two additional functions as outlined below. You can compare the results and pick whichever performs better (quantile loss vs custom loss)."
      ]
    },
    {
      "cell_type": "code",
      "metadata": {
        "id": "tu5jGYh-kD4C"
      },
      "source": [
        "# # GridSearch Lightgbm with Asymmetric Loss Function\n",
        "from sklearn.model_selection import GridSearchCV\n",
        "import lightgbm as lgb\n",
        "# custom function that penalizes underprediction\n",
        "def custom_asymmetric_objective(y_true, y_pred):\n",
        "    residual = (y_true - y_pred).astype(\"float\")\n",
        "    grad = np.where(residual>0, -2* 2 *residual, -2*residual)\n",
        "    hess = np.where(residual>0, 2* 2, 2.0)\n",
        "    return grad, hess\n",
        "# evaluation function that penalizes underprediction\n",
        "def custom_asymmetric_eval(y_true, y_pred):\n",
        "    residual = (y_true - y_pred).astype(\"float\")\n",
        "    loss = np.where(residual > 0, (residual**2)*2, residual**2) \n",
        "    return \"custom_asymmetric_eval\", np.mean(loss), False\n",
        "\n",
        "estimator = lgb.LGBMRegressor(objective=custom_asymmetric_objective)\n",
        "\n",
        "\n",
        "gbm = GridSearchCV(estimator, param_grid, cv=3, verbose=4)\n",
        "gbm.fit(\n",
        "    X_train,\n",
        "    y_train,\n",
        "    eval_set=[(X_val, y_val)],\n",
        "    eval_metric=custom_asymmetric_eval\n",
        ")"
      ],
      "execution_count": null,
      "outputs": []
    },
    {
      "cell_type": "code",
      "metadata": {
        "colab": {
          "base_uri": "https://localhost:8080/"
        },
        "id": "b36olbh-WuH1",
        "outputId": "96852ca7-caf9-4578-fa70-68d7fef85b6a"
      },
      "source": [
        "print(gbm.best_estimator_)"
      ],
      "execution_count": null,
      "outputs": [
        {
          "output_type": "stream",
          "text": [
            "LGBMRegressor(boosting_type='gbdt', class_weight=None, colsample_bytree=0.9,\n",
            "              early_stopping_rounds=4, importance_type='split',\n",
            "              learning_rate=0.2, max_depth=5, min_child_samples=100,\n",
            "              min_child_weight=0.001, min_split_gain=0.0, n_estimators=30,\n",
            "              n_jobs=-1, num_leaves=40, num_threads=4,\n",
            "              objective=<function custom_asymmetric_objective at 0x7fcf2e09ccb0>,\n",
            "              random_state=None, reg_alpha=0.0, reg_lambda=0, seed=3,\n",
            "              silent=True, subsample=1.0, subsample_for_bin=200000,\n",
            "              subsample_freq=0)\n"
          ],
          "name": "stdout"
        }
      ]
    },
    {
      "cell_type": "code",
      "metadata": {
        "colab": {
          "base_uri": "https://localhost:8080/"
        },
        "id": "ky8br1_0lG5y",
        "outputId": "5a700abb-8398-44ab-8ae0-b12592777742"
      },
      "source": [
        "y_train_pred, y_val_pred, y_test_pred = report_results(gbm.best_estimator_) # gbm.best_estimator_"
      ],
      "execution_count": null,
      "outputs": [
        {
          "output_type": "stream",
          "text": [
            "Train MSE: 721169.7183577482\n",
            "Val MSE: 737275.6008938353\n",
            "Test MSE: 723120.1144064858\n",
            "\n",
            "Train MAE: 645.8325039503125\n",
            "Val MAE: 656.452186621599\n",
            "Test MAE: 651.9079688295558\n"
          ],
          "name": "stdout"
        }
      ]
    },
    {
      "cell_type": "code",
      "metadata": {
        "colab": {
          "base_uri": "https://localhost:8080/"
        },
        "id": "AtcFRhuAlHiU",
        "outputId": "4d6522d3-991b-4fd0-f846-0720063b6fc4"
      },
      "source": [
        "business_metric_eval(y_test, y_test_pred, acceptance=600)"
      ],
      "execution_count": null,
      "outputs": [
        {
          "output_type": "stream",
          "text": [
            "mild_underprediction      0.314164\n",
            "mild_overprediction       0.241809\n",
            "severe_overprediction     0.230546\n",
            "severe_underprediction    0.213481\n",
            "Name: lateness, dtype: float64\n"
          ],
          "name": "stdout"
        }
      ]
    },
    {
      "cell_type": "markdown",
      "metadata": {
        "id": "rCCuXeAsbEW4"
      },
      "source": [
        "As a result, the custom loss model we defined outperformed the quantile-based loss model in regression metrics (MSE and MAE). But if we check the business metric, the custom-loss model has more undesirable underpredictions. For example, about 44% of the time, the model under predicts with almost half of it being severe underprediction. For the quantile-loss model, we had underpredicted 34% of the time and severe underpredictions were about 8%. If our business case strongly dictates us to focus on fewer underpredictions, then a quantile-based model would be a better choice. \n",
        "\n",
        "In conclusion, we have analyzed food delivery business data and discussed some business aspects. Also, we injected business concerns into data science workflow by integrating cost-sensitive predictions. Specifically, we have seen two ways of injecting cost sensitiveness into our tree-based models. Hope you enjoyed it!"
      ]
    }
  ]
}