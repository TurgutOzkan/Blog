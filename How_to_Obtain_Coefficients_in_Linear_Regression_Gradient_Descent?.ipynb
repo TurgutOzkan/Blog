{
  "nbformat": 4,
  "nbformat_minor": 0,
  "metadata": {
    "colab": {
      "name": "How to Obtain Coefficients in Linear Regression--Gradient Descent?.ipynb",
      "provenance": [],
      "collapsed_sections": [],
      "authorship_tag": "ABX9TyNSGQ+2s47GMEHb7lKqEMMI",
      "include_colab_link": true
    },
    "kernelspec": {
      "name": "python3",
      "display_name": "Python 3"
    }
  },
  "cells": [
    {
      "cell_type": "markdown",
      "metadata": {
        "id": "view-in-github",
        "colab_type": "text"
      },
      "source": [
        "<a href=\"https://colab.research.google.com/github/TurgutOzkan/DataSciencity/blob/master/How_to_Obtain_Coefficients_in_Linear_Regression_Gradient_Descent%3F.ipynb\" target=\"_parent\"><img src=\"https://colab.research.google.com/assets/colab-badge.svg\" alt=\"Open In Colab\"/></a>"
      ]
    },
    {
      "cell_type": "markdown",
      "metadata": {
        "id": "Qgt1_AqFomrR"
      },
      "source": [
        "In the previous [post](https://datasciencity.com/2020/09/29/how-to-obtain-coefficients-in-linear-regression), we discussed how to derive the linear regression parameters (coefficients) and showed how to apply the normal equation to derive the parameters. In this post, we will focus on obtaining coefficients using [gradient descent](https://en.wikipedia.org/wiki/Gradient_descent) approach. Similar to the previous one, this post aims to provide notes on the equations and quick implementations, rather than explanation of the intuition. Let's start with defining what we need:\n",
        "\n",
        "If we define m as the sample size and j as feature index up to k, then \n",
        "our cost function: <center>  $\\large J(W)=\\frac{1}{2m}\\sum_{i=1}^{m}(h_W(x^{(i)})-y^{(i)})^{2}$ </center>\n",
        "\n",
        "**Gradient descent algorithm**\n",
        "\n",
        "Repeat until convergence:\n",
        "\n",
        "<center> $ \\large\n",
        "\\theta_j := \\theta_j - \\alpha \\frac{\\partial}{\\partial \\theta_j} J(\\theta_0, \\theta_1, .. \\theta_k)\n",
        "$</center>\n",
        "\n",
        "where\n",
        "\n",
        "j=0, to k --the feature index number.\n",
        "\n",
        "Please note that we update weights simultaneously. That is, for a one-variable problem, we would update $\\theta_0 \\space and \\space \\theta_1$ simultaneously.\n",
        "\n",
        "\\begin{align*} \\text{repeat until convergence: } \\lbrace & \\newline \\theta_0 := & \\theta_0 - \\alpha \\frac{1}{m} \\sum\\limits_{i=1}^{m}(h_\\theta(x_{i}) - y_{i}) \\newline \\theta_1 := & \\theta_1 - \\alpha \\frac{1}{m} \\sum\\limits_{i=1}^{m}\\left((h_\\theta(x_{i}) - y_{i}) x_{i}\\right) \\newline \\rbrace& \\end{align*}\n",
        "\n",
        "$ \\large \\frac{\\partial}{\\partial \\theta_j} J(\\theta) $ is obtained through a series of operation as detailed below:\n",
        "\n",
        "$ \\large \\frac{\\partial}{\\partial \\theta_j} J(\\theta) = \\frac{\\partial}{\\partial \\theta_j} \\frac{1}{2} (h_\\theta(x) - y)^2 $\n",
        "\n",
        "$ \\large \\frac{\\partial}{\\partial \\theta_j} J(\\theta) =2 \\cdot \\frac{1}{2} (h_\\theta(x) - y) \\cdot \\frac{\\partial}{\\partial \\theta_j} (h_\\theta(x) - y)$\n",
        "\n",
        "$ \\large \\frac{\\partial}{\\partial \\theta_j} J(\\theta) = (h_\\theta(x) - y) \\cdot \\frac{\\partial}{\\partial \\theta_j} (\\sum_{i=0}^{m} \\theta_i x_i - y)$\n",
        "\n",
        "$ \\large \\frac{\\partial}{\\partial \\theta_j} J(\\theta) = (h_\\theta(x) - y) \\cdot x_j$ \n",
        "\n",
        "Let's summarize everything in the vectorized form:\n",
        "\n",
        "Defining feature matrix as X, feature parameter as $\\theta$, sample size as $m$ and feature size as $n$, and the observed output as $y$:\n",
        "\n",
        "Hypothesis: <center> $ \\large h_\\theta(X) = \\theta^T X$ </center>\n",
        "\n",
        "Cost Function: <center> $ \\large J(\\theta) = \\frac{1}{2m}(X\\theta - y)^T (X\\theta - y)$ </center>\n",
        "\n",
        "Gradient Descent: <center> $ \\large \\theta := \\theta - \\frac{\\alpha}{m}X^T(X\\theta - y)$ </center>\n",
        "\n",
        "Normal Equation: <center> $ \\large \\theta = (X^T X)^{-1} X^T y$ </center>"
      ]
    },
    {
      "cell_type": "markdown",
      "metadata": {
        "id": "JzthbaYeN0UI"
      },
      "source": [
        "Now, let's define functions that will do the necessary operation formulated above. We will create a function for our hypothesis, which will provide a linear combination of features with their associated weights; a cost function, which will gauge the disparity between the observed and the predicted outcome; and a gradient descent function, which will update our weights based on identifying which directions we should move in the parameter space and by updating the weights accordingly."
      ]
    },
    {
      "cell_type": "code",
      "metadata": {
        "id": "ahbrUDElKGci"
      },
      "source": [
        "def hypothesis(theta, X):\n",
        "    \"\"\"Returns predictions\"\"\"\n",
        "    return theta.T.dot(X)\n",
        "\n",
        "def cost_function(theta, X, y):\n",
        "    \"\"\"Returns the cost\"\"\"\n",
        "    m = X.shape[0]\n",
        "    J = (1.0 / (2.0 * m)) * (X.dot(theta) - y).T * (X.dot(theta) - y)\n",
        "    return J\n",
        "\n",
        "def gradient_descent(X, y, alpha=0.1, iter=100):\n",
        "    \"\"\"\"Calculates gradient descent and return \n",
        "    feature parameters and overall cost\"\"\"\n",
        "    m = X.shape[0]\n",
        "    i = 0\n",
        "    theta = np.matrix([np.zeros(X.shape[1])]).T # initialize theta\n",
        "    overall_cost = []\n",
        "    for k in range(iter):\n",
        "        theta = theta - (alpha / m) * X.T.dot( (X.dot(theta) - y))\n",
        "        cost = cost_function(theta, X, y)\n",
        "        overall_cost.append(float(cost))\n",
        "    return theta, overall_cost"
      ],
      "execution_count": 1,
      "outputs": []
    },
    {
      "cell_type": "code",
      "metadata": {
        "id": "UhC5yzOllvrz",
        "outputId": "77501ac0-4995-474d-802c-bdd9db2e9673",
        "colab": {
          "base_uri": "https://localhost:8080/",
          "height": 35
        }
      },
      "source": [
        "import numpy as np\n",
        "from sklearn.datasets import make_regression\n",
        "import matplotlib.pyplot as plt\n",
        "%matplotlib inline\n",
        "# create a toy data\n",
        "X, y = make_regression(n_samples=506, n_features=3, n_informative=3, random_state=32)\n",
        "# Convert to matrices for ease of matrix multiplication later\n",
        "X = np.matrix(X)\n",
        "y = np.matrix(y).T\n",
        "\n",
        "print(X.shape, y.shape)"
      ],
      "execution_count": 3,
      "outputs": [
        {
          "output_type": "stream",
          "text": [
            "(506, 3) (506, 1)\n"
          ],
          "name": "stdout"
        }
      ]
    },
    {
      "cell_type": "code",
      "metadata": {
        "id": "zqDL5I2iNMI7",
        "outputId": "b7b74330-8e2e-4714-be52-a62610a997b4",
        "colab": {
          "base_uri": "https://localhost:8080/",
          "height": 366
        }
      },
      "source": [
        "# Apply gradient descent and plot the cost function\n",
        "ones = np.ones((X.shape[0], 1))\n",
        "Xb = np.concatenate((ones, X), axis=1)\n",
        "theta, overall_cost = gradient_descent(Xb, y, alpha=0.1, iter=50)\n",
        "\n",
        "print(\"Model Parameters:\", theta)\n",
        "plt.plot(overall_cost, color='lightcoral')\n",
        "plt.xlabel('Iteration')\n",
        "plt.ylabel(r'Cost-$J(\\theta)$')\n",
        "plt.title(\"Cost Function over iterations\")\n",
        "plt.show()"
      ],
      "execution_count": 4,
      "outputs": [
        {
          "output_type": "stream",
          "text": [
            "Model Parameters: [[4.02964561e-02]\n",
            " [6.37424682e+01]\n",
            " [9.00065101e+01]\n",
            " [2.31164469e+01]]\n"
          ],
          "name": "stdout"
        },
        {
          "output_type": "display_data",
          "data": {
            "image/png": "[encoded data removed]",
            "text/plain": [
              "<Figure size 432x288 with 1 Axes>"
            ]
          },
          "metadata": {
            "tags": [],
            "needs_background": "light"
          }
        }
      ]
    },
    {
      "cell_type": "markdown",
      "metadata": {
        "id": "lijd1Nr_NN_U"
      },
      "source": [
        "Using the equation for the weights:\n",
        "$ \\theta = (X^TX)^{-1} \\space X^Ty \\hspace{10.5cm} $"
      ]
    },
    {
      "cell_type": "code",
      "metadata": {
        "id": "yVB3kYaPLVAZ",
        "outputId": "8b0d5a50-4e74-4467-80d2-4fafa94dc7ce",
        "colab": {
          "base_uri": "https://localhost:8080/",
          "height": 88
        }
      },
      "source": [
        "theta_normal_equation = np.linalg.pinv( Xb.T.dot( Xb)).dot( Xb.T.dot( y))\n",
        "print(theta_normal_equation)"
      ],
      "execution_count": 5,
      "outputs": [
        {
          "output_type": "stream",
          "text": [
            "[[4.55191440e-15]\n",
            " [6.48150838e+01]\n",
            " [9.07559538e+01]\n",
            " [2.37143548e+01]]\n"
          ],
          "name": "stdout"
        }
      ]
    },
    {
      "cell_type": "markdown",
      "metadata": {
        "id": "ItVg5_WDPbbC"
      },
      "source": [
        "Now, let's use the Scikit-learn package to compare with our own implementation."
      ]
    },
    {
      "cell_type": "code",
      "metadata": {
        "id": "fgEdx6PFPpJW",
        "outputId": "919b717a-d749-4952-a253-38a04fd138cc",
        "colab": {
          "base_uri": "https://localhost:8080/",
          "height": 52
        }
      },
      "source": [
        "from sklearn.linear_model import LinearRegression\n",
        "model = LinearRegression().fit(X,y)\n",
        "y_hat = model.predict(X)\n",
        "print(\"slope:\", model.coef_)\n",
        "print(\"intercept:\", model.intercept_)"
      ],
      "execution_count": 9,
      "outputs": [
        {
          "output_type": "stream",
          "text": [
            "slope: [[64.81508384 90.75595379 23.71435485]]\n",
            "intercept: [-7.77156117e-15]\n"
          ],
          "name": "stdout"
        }
      ]
    },
    {
      "cell_type": "markdown",
      "metadata": {
        "id": "gLVonvofP1BK"
      },
      "source": [
        "We got similar results when we applied gradient descent.Note that the learning rate and the number of iteration matters a lot in gradient descent. if we had chosen different values for these, we would have had a somewhat different result. Usually, gradient descent in linear regression requires many iterations in the order of hundreds and sometimes thousands to approach normal equation results. Now, let's work on a completely different dataset."
      ]
    },
    {
      "cell_type": "code",
      "metadata": {
        "id": "Bi8GOxLGQZF5",
        "outputId": "804ffb9a-f2fe-43cc-c903-3905a81aa5d5",
        "colab": {
          "base_uri": "https://localhost:8080/",
          "height": 35
        }
      },
      "source": [
        "import pandas as pd\n",
        "from sklearn.datasets import load_diabetes\n",
        "from sklearn.linear_model import LinearRegression\n",
        "X, y = load_diabetes(return_X_y=True)\n",
        "y = y.reshape(-1,1)\n",
        "print(X.shape, y.shape)"
      ],
      "execution_count": 10,
      "outputs": [
        {
          "output_type": "stream",
          "text": [
            "(442, 10) (442, 1)\n"
          ],
          "name": "stdout"
        }
      ]
    },
    {
      "cell_type": "code",
      "metadata": {
        "id": "4u0bla6FQkCN",
        "outputId": "1c312cad-36f2-4ddc-a0cc-a41c770e14f6",
        "colab": {
          "base_uri": "https://localhost:8080/",
          "height": 491
        }
      },
      "source": [
        "ones = np.ones((X.shape[0], 1))\n",
        "Xb = np.concatenate((ones, X), axis=1)\n",
        "\n",
        "# apply gradient descent\n",
        "theta, overall_cost = gradient_descent(Xb, y, alpha=0.5, iter=10000)\n",
        "print(\"Model Parameters:\", theta)\n",
        "\n",
        "plt.plot(overall_cost, color='lightcoral')\n",
        "plt.xlabel('Iteration')\n",
        "plt.ylabel(r'Cost-$J(\\theta)$')\n",
        "plt.title(\"Cost Function over iterations\")\n",
        "plt.show()"
      ],
      "execution_count": 11,
      "outputs": [
        {
          "output_type": "stream",
          "text": [
            "Model Parameters: [[ 152.13348416]\n",
            " [  -6.62747982]\n",
            " [-236.50967437]\n",
            " [ 528.89599077]\n",
            " [ 322.07538703]\n",
            " [-100.76917287]\n",
            " [ -82.22478218]\n",
            " [-196.10047313]\n",
            " [ 109.28925041]\n",
            " [ 487.70727647]\n",
            " [  70.14857432]]\n"
          ],
          "name": "stdout"
        },
        {
          "output_type": "display_data",
          "data": {
            "image/png": "[encoded data removed]",
            "text/plain": [
              "<Figure size 432x288 with 1 Axes>"
            ]
          },
          "metadata": {
            "tags": [],
            "needs_background": "light"
          }
        }
      ]
    },
    {
      "cell_type": "code",
      "metadata": {
        "id": "D0yBDquwMXw-",
        "outputId": "5ef0c45e-dd46-40c7-e6ad-4b2323f1fc75",
        "colab": {
          "base_uri": "https://localhost:8080/",
          "height": 212
        }
      },
      "source": [
        "# Normal equation\n",
        "theta_from_norm = np.linalg.pinv( Xb.T.dot( Xb)).dot( Xb.T.dot( y))\n",
        "print(theta_from_norm)"
      ],
      "execution_count": 12,
      "outputs": [
        {
          "output_type": "stream",
          "text": [
            "[[ 152.13348416]\n",
            " [ -10.01219782]\n",
            " [-239.81908937]\n",
            " [ 519.83978679]\n",
            " [ 324.39042769]\n",
            " [-792.18416163]\n",
            " [ 476.74583782]\n",
            " [ 101.04457032]\n",
            " [ 177.06417623]\n",
            " [ 751.27932109]\n",
            " [  67.62538639]]\n"
          ],
          "name": "stdout"
        }
      ]
    },
    {
      "cell_type": "code",
      "metadata": {
        "id": "h9Xz2FVIkSh_",
        "outputId": "d7ec6a24-6e06-471c-b30d-b21c08342e6f",
        "colab": {
          "base_uri": "https://localhost:8080/",
          "height": 70
        }
      },
      "source": [
        "# scikit learn\n",
        "from sklearn.linear_model import LinearRegression\n",
        "reg = LinearRegression().fit(X, y)\n",
        "reg.score(X, y)\n",
        "print(\"slopes:\", reg.coef_)\n",
        "print(\"intercept:\", reg.intercept_)\n",
        "y_hat = reg.predict(X)"
      ],
      "execution_count": 13,
      "outputs": [
        {
          "output_type": "stream",
          "text": [
            "slopes: [[ -10.01219782 -239.81908937  519.83978679  324.39042769 -792.18416163\n",
            "   476.74583782  101.04457032  177.06417623  751.27932109   67.62538639]]\n",
            "intercept: [152.13348416]\n"
          ],
          "name": "stdout"
        }
      ]
    },
    {
      "cell_type": "markdown",
      "metadata": {
        "id": "G6IBhRc6Q1Lo"
      },
      "source": [
        "This concludes this post. Understanding the mechanics behind linear estimators is very important to understand more complex algorithms used in machine learning, such as neural networks.It is highly advisable to work on derivations on a piece of paper. Talk to you soon!"
      ]
    }
  ]
}