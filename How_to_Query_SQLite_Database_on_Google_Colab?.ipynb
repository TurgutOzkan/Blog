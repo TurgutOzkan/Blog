{
  "nbformat": 4,
  "nbformat_minor": 0,
  "metadata": {
    "colab": {
      "name": "How to Query SQLite  Database on Google Colab?.ipynb",
      "provenance": [],
      "authorship_tag": "ABX9TyOSowJg3UqG1p2MQSWsliQa",
      "include_colab_link": true
    },
    "kernelspec": {
      "name": "python3",
      "display_name": "Python 3"
    }
  },
  "cells": [
    {
      "cell_type": "markdown",
      "metadata": {
        "id": "view-in-github",
        "colab_type": "text"
      },
      "source": [
        "<a href=\"https://colab.research.google.com/github/TurgutOzkan/DataSciencity/blob/master/How_to_Query_SQLite_Database_on_Google_Colab%3F.ipynb\" target=\"_parent\"><img src=\"https://colab.research.google.com/assets/colab-badge.svg\" alt=\"Open In Colab\"/></a>"
      ]
    },
    {
      "cell_type": "markdown",
      "metadata": {
        "id": "lm7gz6ct_34m"
      },
      "source": [
        "In this brief post, we will discuss how to create databases and use them within Colab. You can find a previous [post](https://datasciencity.com/2019/12/31/how-to-use-google-colab/) on how to use Colab. [SQlite](https://www.sqlite.org/index.html) is already installed in Colab. In this post, we will create a database and in later ones, we will work on some queries. We will use the data generated [here](https://en.wikibooks.org/wiki/SQL_Exercises/Employee_management)."
      ]
    },
    {
      "cell_type": "code",
      "metadata": {
        "colab": {
          "base_uri": "https://localhost:8080/"
        },
        "id": "Zlnuka664IuG",
        "outputId": "46f474f0-ca6e-4bbf-ab49-dea574d73ebb"
      },
      "source": [
        "# CREATING THE TABLE\n",
        "import sqlite3\n",
        "\n",
        "conn = sqlite3.connect('test.db')\n",
        "\n",
        "conn.execute('''\n",
        "CREATE TABLE Departments (\n",
        "   Code INTEGER PRIMARY KEY NOT NULL,\n",
        "   Name NVARCHAR NOT NULL ,\n",
        "   Budget REAL NOT NULL \n",
        " );''')\n",
        "\n",
        "conn.commit()\n",
        "\n",
        "print(\"Departments table created\");\n",
        "\n",
        "conn.execute('''\n",
        "CREATE TABLE Employees (\n",
        "   SSN INTEGER PRIMARY KEY NOT NULL,\n",
        "   Name TEXT NOT NULL ,\n",
        "   LastName VARCHAR NOT NULL ,--since question 2 asks about removing duplicate - text must be converted if the answer is using distinct\n",
        "   Department INTEGER NOT NULL , \n",
        "   CONSTRAINT fk_Departments_Code FOREIGN KEY(Department) \n",
        "   REFERENCES Departments(Code)\n",
        " );''')\n",
        "\n",
        "conn.commit()\n",
        "\n",
        "print(\"Employees table created\");"
      ],
      "execution_count": null,
      "outputs": [
        {
          "output_type": "stream",
          "text": [
            "Departments table created\n",
            "Employees table created\n"
          ],
          "name": "stdout"
        }
      ]
    },
    {
      "cell_type": "markdown",
      "metadata": {
        "id": "Okmx_-bs7br0"
      },
      "source": [
        "We created our tables. This code also created files. See the folder icon on the left and click on it. You will see we that we created a database there. If you rerun above, you will get error saying that the table is already created. If you experienced a typo etc. somewhere and want to rerun everything for some reason, you need to factory reset from 'Runtime' menu above. That will erase the files created. So you can fix your code and hit the run, then you will see the files created with the '....table created' message.\n",
        "\n",
        "We still do not have data in our tables. We can fill our database with some data as following. Basically, we create two tables: \n",
        "\n",
        "Departments with Code, Name, and Budget columns \n",
        "Employees with SSN, Name, LastName, and Department columns."
      ]
    },
    {
      "cell_type": "code",
      "metadata": {
        "id": "5YS01-mK4Uce"
      },
      "source": [
        "# Inserting data to Departments table\n",
        "conn.execute(\"INSERT INTO Departments(Code,Name,Budget) VALUES(14,'IT',65000);\")\n",
        "conn.execute(\"INSERT INTO Departments(Code,Name,Budget) VALUES(37,'Accounting',15000);\")\n",
        "conn.execute(\"INSERT INTO Departments(Code,Name,Budget) VALUES(59,'Human Resources',240000);\")\n",
        "conn.execute(\"INSERT INTO Departments(Code,Name,Budget) VALUES(77,'Research',55000);\")\n",
        "\n",
        "# Inserting data to Employees table\n",
        "conn.execute(\"INSERT INTO Employees(SSN,Name,LastName,Department) VALUES('123234877','Michael','Rogers',14);\")\n",
        "conn.execute(\"INSERT INTO Employees(SSN,Name,LastName,Department) VALUES('152934485','Anand','Manikutty',14);\")\n",
        "conn.execute(\" INSERT INTO Employees(SSN,Name,LastName,Department) VALUES('222364883','Carol','Smith',37); \")\n",
        "conn.execute(\" INSERT INTO Employees(SSN,Name,LastName,Department) VALUES('326587417','Joe','Stevens',37); \")\n",
        "conn.execute(\" INSERT INTO Employees(SSN,Name,LastName,Department) VALUES('332154719','Mary-Anne','Foster',14);\")\n",
        "conn.execute(\" INSERT INTO Employees(SSN,Name,LastName,Department) VALUES('332569843','George','O''Donnell',77);\")\n",
        "conn.execute(\" INSERT INTO Employees(SSN,Name,LastName,Department) VALUES('546523478','John','Doe',59);\")\n",
        "conn.execute(\"INSERT INTO Employees(SSN,Name,LastName,Department) VALUES('631231482','David','Smith',77);\")\n",
        "conn.execute(\" INSERT INTO Employees(SSN,Name,LastName,Department) VALUES('654873219','Zacary','Efron',59);\")\n",
        "conn.execute(\" INSERT INTO Employees(SSN,Name,LastName,Department) VALUES('745685214','Eric','Goldsmith',59);\")\n",
        "conn.execute(\" INSERT INTO Employees(SSN,Name,LastName,Department) VALUES('845657245','Elizabeth','Doe',14);\")\n",
        "conn.execute(\" INSERT INTO Employees(SSN,Name,LastName,Department) VALUES('845657246','Kumar','Swamy',14);\")\n",
        "conn.commit()"
      ],
      "execution_count": null,
      "outputs": []
    },
    {
      "cell_type": "markdown",
      "metadata": {
        "id": "LFzvOLCh7NK6"
      },
      "source": [
        "# Running Queries"
      ]
    },
    {
      "cell_type": "code",
      "metadata": {
        "colab": {
          "base_uri": "https://localhost:8080/"
        },
        "id": "A18e1Iu94YI6",
        "outputId": "f0527569-53dd-45f7-d096-de5b1376c71a"
      },
      "source": [
        "# simple test queries\n",
        "conn = sqlite3.connect('test.db')\n",
        "cursor = conn.execute(''' SELECT * FROM Departments ''')\n",
        "for row in cursor:\n",
        "  print(row)"
      ],
      "execution_count": null,
      "outputs": [
        {
          "output_type": "stream",
          "text": [
            "(14, 'IT', 65000.0)\n",
            "(37, 'Accounting', 15000.0)\n",
            "(59, 'Human Resources', 240000.0)\n",
            "(77, 'Research', 55000.0)\n"
          ],
          "name": "stdout"
        }
      ]
    },
    {
      "cell_type": "code",
      "metadata": {
        "colab": {
          "base_uri": "https://localhost:8080/"
        },
        "id": "Q-QHIzKw4rM2",
        "outputId": "798abbc1-bc92-4630-b131-cba6e3ce19df"
      },
      "source": [
        "cursor = conn.execute(''' SELECT * FROM Employees ''')\n",
        "\n",
        "for row in cursor:\n",
        "  print(row)"
      ],
      "execution_count": null,
      "outputs": [
        {
          "output_type": "stream",
          "text": [
            "(123234877, 'Michael', 'Rogers', 14)\n",
            "(152934485, 'Anand', 'Manikutty', 14)\n",
            "(222364883, 'Carol', 'Smith', 37)\n",
            "(326587417, 'Joe', 'Stevens', 37)\n",
            "(332154719, 'Mary-Anne', 'Foster', 14)\n",
            "(332569843, 'George', \"O'Donnell\", 77)\n",
            "(546523478, 'John', 'Doe', 59)\n",
            "(631231482, 'David', 'Smith', 77)\n",
            "(654873219, 'Zacary', 'Efron', 59)\n",
            "(745685214, 'Eric', 'Goldsmith', 59)\n",
            "(845657245, 'Elizabeth', 'Doe', 14)\n",
            "(845657246, 'Kumar', 'Swamy', 14)\n"
          ],
          "name": "stdout"
        }
      ]
    },
    {
      "cell_type": "code",
      "metadata": {
        "id": "4E_DsL1R4fcM"
      },
      "source": [
        "# close the connection\n",
        "conn.close()"
      ],
      "execution_count": null,
      "outputs": []
    },
    {
      "cell_type": "markdown",
      "metadata": {
        "id": "paGYwVD3B1ys"
      },
      "source": [
        "This is the data we will use to highlight important concepts frequently surfacing in the interviews. We will talk more about that soon."
      ]
    }
  ]
}